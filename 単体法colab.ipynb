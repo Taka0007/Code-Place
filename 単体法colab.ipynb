{
  "nbformat": 4,
  "nbformat_minor": 0,
  "metadata": {
    "colab": {
      "provenance": [],
      "authorship_tag": "ABX9TyPo3cvyMQAC9fg9RLe+93Vg",
      "include_colab_link": true
    },
    "kernelspec": {
      "name": "python3",
      "display_name": "Python 3"
    },
    "language_info": {
      "name": "python"
    }
  },
  "cells": [
    {
      "cell_type": "markdown",
      "metadata": {
        "id": "view-in-github",
        "colab_type": "text"
      },
      "source": [
        "<a href=\"https://colab.research.google.com/github/Taka0007/Code-Place/blob/main/%E5%8D%98%E4%BD%93%E6%B3%95colab.ipynb\" target=\"_parent\"><img src=\"https://colab.research.google.com/assets/colab-badge.svg\" alt=\"Open In Colab\"/></a>"
      ]
    },
    {
      "cell_type": "code",
      "execution_count": 89,
      "metadata": {
        "id": "j9lJsxsLKEOr",
        "colab": {
          "base_uri": "https://localhost:8080/"
        },
        "outputId": "216987d4-966d-41ae-9585-255062c0eb9d"
      },
      "outputs": [
        {
          "output_type": "stream",
          "name": "stdout",
          "text": [
            "(0, array([[ 6.],\n",
            "       [14.]]))\n"
          ]
        }
      ],
      "source": [
        "# @title Simplex method\n",
        "\n",
        "import numpy as np\n",
        "import random\n",
        "\n",
        "class Simplex:\n",
        "  def __init__(self, condition, objective, ranks_of_A, ranks_of_b):\n",
        "    \n",
        "    self.condition, self.objective, self.ranks_of_A, self.ranks_of_b = condition, objective, ranks_of_A, ranks_of_b  \n",
        "    #↑条件関数＆目的関数などの代入\n",
        "    self.row_cond      = condition.shape[0]  #条件関数の行数  \n",
        "    self.list_cond     = condition.shape[1]  #条件関数の列数\n",
        "    self.basic_var_ind = []                 #基底変数のインデックス\n",
        "    self.basic_var     = np.empty((self.row_cond,self.list_cond))#基底変数行列\n",
        "    self.non_basic_ind = []                #非基底変数のインデックス（今はまだ空）\n",
        "    self.non_basic     = np.empty((self.row_cond, self.list_cond))#非基底変数行列\n",
        "    \n",
        "    #以下の変数は後程更新される暫定的な変数\n",
        "    self.newranks          = np.empty((self.row_cond, self.list_cond))\n",
        "    self.next_basic_vars   = 0\n",
        "    self.newA              = np.empty((self.row_cond, self.list_cond))\n",
        "    self.newb              = np.empty((self.row_cond, self.list_cond))\n",
        "\n",
        "#線形独立なベクトルを選んでくる関数\n",
        "  def determin_basic_var(self):\n",
        "    self.basic_var         = self.condition[:,0:1]  #基底変数に条件関数の1列目を付け加えている(後ろのスライスをミスると、1次元になってしまいエラーをはくので注意)\n",
        "    new_judgement_ranks    = self.basic_var\n",
        "\n",
        "\n",
        "    for i in range(1,self.list_cond):\n",
        "      new_judgement_ranks  = np.hstack((self.basic_var,self.condition[:,i:i+1]))   #列を追加して判定用行列に付け加えている\n",
        "\n",
        "\n",
        "      #判定用の行列のrankに新たな列を付け加えたもののrankが、その行列全体の列数と同じになる限り付け加え続ける\n",
        "      #このループが終わった後には、線型独立のものしか残らない（線型従属なものを加えてしまった場合、rank=列数になることはありえないため）\n",
        "      if np.linalg.matrix_rank(new_judgement_ranks)== new_judgement_ranks.shape[1]:      \n",
        "        self.basic_var_ind.append(i)\n",
        "        #judgement_ranks  = np.hstack((judgement_ranks,self.condition[i]))\n",
        "        self.basic_var   = np.hstack((self.basic_var,self.condition[:,i:i+1]))\n",
        "\n",
        "      else:\n",
        "        self.non_basic_ind.append(i)\n",
        "      \n",
        "        if len(self.non_basic_ind)==0:\n",
        "          \n",
        "          self.non_basic = self.condition[:,i:i+1]\n",
        "\n",
        "        else:\n",
        "          self.non_basic = np.hstack((self.non_basic,self.condition[:,i:i+1]))\n",
        "\n",
        "\n",
        "    self.newA            = (np.linalg.inv(self.basic_var)) @ self.ranks_of_A\n",
        "    self.newb            = (np.linalg.inv(self.basic_var)) @ self.ranks_of_b\n",
        "\n",
        "    return self.basic_var\n",
        "\n",
        "\n",
        "  def optimizeable(self):   #最適化の余地があるかを判定。すでに最適化されていたらFalseを返す\n",
        "    if np.amin(self.objective) > 0:\n",
        "      return False\n",
        "\n",
        "  def next_basic_vars(self):    #目的関数の中で最小の列の添字を返す。これが次の基底変数となる。\n",
        "    return np.argmin(self.objective)\n",
        "\n",
        "\n",
        "  def next_nonbasic_vars(self):  #newb/newAが最小の列の添え字を返す。これとnext_basic_varsを入れ替えてあげる。\n",
        "    \n",
        "    K                     = Simplex.next_basic_vars(self)\n",
        "    self.newranks         = self.ranks_of_b / self.ranks_of_A[:, K:K+1]\n",
        "    self.next_nonbasic_vars  = np.argmin(self.newranks)\n",
        "    return self.next_nonbasic_vars\n",
        "\n",
        "\n",
        "  def renew_basic_vars(self):\n",
        "    Simplex.next_basic_vars(self).add(self.basic_vars_ind)\n",
        "    Simplex.next_nonbasic_vars(self).remove(self.basic_vars_ind)\n",
        "\n",
        "  #def reduce_row():    #掃き出し\n",
        "\n",
        "\n",
        "\n",
        "\n",
        "if __name__ == \"__main__\":\n",
        "    \n",
        "  condition  = np.array([[5,2,1,0,30],[1,2,0,1,14]]) #条件関数\n",
        "  objective  = np.array([-5,-4,0,0,0])  #目的関数\n",
        "  ranks_of_A = np.array([[5,2,1,0],[1,2,0,1]])#条件関数の右辺\n",
        "  ranks_of_b = np.array([[30],[14]])          #条件関数の左辺だけ抽出したもの\n",
        "\n",
        "  simplex = Simplex(condition, objective, ranks_of_A, ranks_of_b)\n",
        "  \n",
        "#  while(simplex.optimizeable()):\n",
        "  \n",
        "  \n",
        "  #print(simplex.determin_basic_var())\n",
        "  print(simplex.next_nonbasic_vars())"
      ]
    }
  ]
}